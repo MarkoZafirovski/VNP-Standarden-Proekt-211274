{
  "nbformat": 4,
  "nbformat_minor": 0,
  "metadata": {
    "colab": {
      "provenance": []
    },
    "kernelspec": {
      "name": "python3",
      "display_name": "Python 3"
    },
    "language_info": {
      "name": "python"
    }
  },
  "cells": [
    {
      "cell_type": "markdown",
      "source": [
        "# **Стандарден Проект: Тестирање и истражување на адаптивни тренинг планови**"
      ],
      "metadata": {
        "id": "XkPrjq4aOsxx"
      }
    },
    {
      "cell_type": "markdown",
      "source": [
        "Овој код преставува целосен процес за истражување и развој на систем за\n",
        "адаптивни тренинг планови. Користи податочно-воден пристап,\n",
        "каде симулациите се базираат на реални и случајно избрани записи од датасетот calories.csv, најден на kaggle преку линкот https://www.kaggle.com/datasets/ruchikakumbhar/calories-burnt-prediction.\n"
      ],
      "metadata": {
        "id": "LSNaLbNjPTyz"
      }
    },
    {
      "cell_type": "markdown",
      "source": [
        "# **Секција 1: Подготовка на работна околина и внесување на соодветни библиотеки**"
      ],
      "metadata": {
        "id": "Ytn1Q9xESAvq"
      }
    },
    {
      "cell_type": "code",
      "source": [
        "import pandas as pd\n",
        "import numpy as np\n",
        "import xgboost as xgb\n",
        "from sklearn.model_selection import train_test_split\n",
        "from sklearn.metrics import r2_score\n",
        "import random\n",
        "import warnings\n",
        "warnings.filterwarnings('ignore')\n",
        "print(\"Библиотеките се успешно внесени.\")"
      ],
      "metadata": {
        "colab": {
          "base_uri": "https://localhost:8080/"
        },
        "id": "8GqmPPNCRTEo",
        "outputId": "5081006d-0ac3-4925-9db2-4a8ee3eda7cf"
      },
      "execution_count": 29,
      "outputs": [
        {
          "output_type": "stream",
          "name": "stdout",
          "text": [
            "Библиотеките се успешно внесени.\n"
          ]
        }
      ]
    },
    {
      "cell_type": "markdown",
      "source": [
        "# **Секција 2: Вчитување на податочното множество calories.csv и сите негови категории**"
      ],
      "metadata": {
        "id": "pIpZCwsPSbk2"
      }
    },
    {
      "cell_type": "code",
      "source": [
        "try:\n",
        "    !gdown 1IkTe0p2Tnh-ViTIdBiGZclRwnGw23z8X\n",
        "    df = pd.read_csv('calories.csv')\n",
        "    print(\"Податочното множество 'calories.csv' е успешно вчитано.\")\n",
        "except FileNotFoundError:\n",
        "    print(\"ГРЕШКА: Податочното множество 'calories.csv' не е пронајдено.\")\n",
        "    exit()"
      ],
      "metadata": {
        "colab": {
          "base_uri": "https://localhost:8080/"
        },
        "id": "zsPRx1RFSsx-",
        "outputId": "36585dd9-10ce-4d47-a670-de7c86689e11"
      },
      "execution_count": 30,
      "outputs": [
        {
          "output_type": "stream",
          "name": "stdout",
          "text": [
            "Downloading...\n",
            "From: https://drive.google.com/uc?id=1IkTe0p2Tnh-ViTIdBiGZclRwnGw23z8X\n",
            "To: /content/calories.csv\n",
            "\r  0% 0.00/742k [00:00<?, ?B/s]\r100% 742k/742k [00:00<00:00, 16.2MB/s]\n",
            "Податочното множество 'calories.csv' е успешно вчитано.\n"
          ]
        }
      ]
    },
    {
      "cell_type": "markdown",
      "source": [
        "# **Секција 3: Feature engineering и воведување колона за класификација на типови на адаптивни тренинзи**"
      ],
      "metadata": {
        "id": "nROK0LKZS_ZV"
      }
    },
    {
      "cell_type": "code",
      "source": [
        "def definiraj_plan(row):\n",
        "    duration = row['Duration']; heart_rate = row['Heart_Rate']\n",
        "    if duration <= 10:\n",
        "        if heart_rate < 90: return \"Кратка релаксација\"\n",
        "        elif heart_rate < 115: return \"Кратка кардио активност\"\n",
        "        else: return \"Краток висок интензитет (HIIT)\"\n",
        "    elif duration <= 20:\n",
        "        if heart_rate < 95: return \"Лесен тренинг за издржливост\"\n",
        "        elif heart_rate < 115: return \"Стандарден кардио тренинг\"\n",
        "        else: return \"Интензивен кардио тренинг\"\n",
        "    else:\n",
        "        if heart_rate < 100: return \"Долг тренинг со низок интензитет\"\n",
        "        elif heart_rate < 115: return \"Тренинг за издржливост\"\n",
        "        else: return \"Напреден тренинг за издржливост\"\n",
        "df['Training_Plan_Type'] = df.apply(definiraj_plan, axis=1)\n",
        "print(\"Успешно е креирана нова колона 'Training_Plan_Type'.\")"
      ],
      "metadata": {
        "colab": {
          "base_uri": "https://localhost:8080/"
        },
        "id": "mRbP42yNTYw-",
        "outputId": "7204ed64-f6af-46d4-8152-d2668f76446d"
      },
      "execution_count": 31,
      "outputs": [
        {
          "output_type": "stream",
          "name": "stdout",
          "text": [
            "Успешно е креирана нова колона 'Training_Plan_Type'.\n"
          ]
        }
      ]
    },
    {
      "cell_type": "markdown",
      "source": [
        "# **Секција 4: Градење на моделот за предвидување**"
      ],
      "metadata": {
        "id": "xvmPTK5rUQNm"
      }
    },
    {
      "cell_type": "code",
      "source": [
        "df_model = df.copy(); df_model['Gender'] = df_model['Gender'].map({'male': 0, 'female': 1})\n",
        "features = ['Gender', 'Age', 'Height', 'Weight', 'Duration', 'Heart_Rate', 'Body_Temp']\n",
        "target = 'Calories'\n",
        "X = df_model[features]; y = df_model[target]\n",
        "X_train, X_test, y_train, y_test = train_test_split(X, y, test_size=0.2, random_state=42)\n",
        "model = xgb.XGBRegressor(objective='reg:squarederror', n_estimators=100, learning_rate=0.1, max_depth=5, random_state=42, n_jobs=-1)\n",
        "model.fit(X_train, y_train)\n",
        "accuracy_r2 = model.score(X_test, y_test)\n",
        "print(f\"Моделот за предвидување е валидиран со точност (R-squared) од {accuracy_r2*100:.2f}%.\")"
      ],
      "metadata": {
        "colab": {
          "base_uri": "https://localhost:8080/"
        },
        "id": "ZEkqUxEmUheB",
        "outputId": "88037c15-1f2f-4d84-94e4-c76066069c39"
      },
      "execution_count": 32,
      "outputs": [
        {
          "output_type": "stream",
          "name": "stdout",
          "text": [
            "Моделот за предвидување е валидиран со точност (R-squared) од 99.89%.\n"
          ]
        }
      ]
    },
    {
      "cell_type": "markdown",
      "source": [
        "# **Секција 5.1: Дефинирање на функции за практика - алтернативни планови**"
      ],
      "metadata": {
        "id": "eX6OmxwWVLHg"
      }
    },
    {
      "cell_type": "code",
      "source": [
        "def pronajdi_alternativni_planovi(cel_kalorii, korisnik_profil, tolerancija=15):\n",
        "    print(f\"\\n СЦЕНАРИО 1: Пребарување на АЛТЕРНАТИВНИ планови за цел од ~{cel_kalorii:.0f} калории.\")\n",
        "    najdeni_planovi = []\n",
        "    prikazani_kalorii = set() # Сет за следење на веќе прикажани вредности\n",
        "    for duration in range(10, 61, 2):\n",
        "        for heart_rate in np.arange(90, 141, 2.5):\n",
        "            body_temp_est = 38.0 + (heart_rate - 90) * 0.05\n",
        "            podatoci_za_predviduvanje = {**korisnik_profil, 'Duration': duration, 'Heart_Rate': heart_rate, 'Body_Temp': body_temp_est}\n",
        "            input_df = pd.DataFrame([podatoci_za_predviduvanje], columns=X.columns)\n",
        "            predvideni_kalorii = round(float(model.predict(input_df)[0]), 1)\n",
        "\n",
        "            # Проверуваме дали предвидувањето е во рамки на целта\n",
        "            if abs(predvideni_kalorii - cel_kalorii) <= tolerancija:\n",
        "                # После корекција прикажуваме само опции со различна проценета потрошувачка на калории\n",
        "                if predvideni_kalorii not in prikazani_kalorii:\n",
        "                    plan = {'Duration': duration, 'Heart_Rate': int(heart_rate), 'Predicted_Calories': predvideni_kalorii}\n",
        "                    plan['Plan_Type'] = definiraj_plan(plan)\n",
        "                    najdeni_planovi.append(plan)\n",
        "                    prikazani_kalorii.add(predvideni_kalorii)\n",
        "                if len(najdeni_planovi) >= 3: return najdeni_planovi\n",
        "    return najdeni_planovi\n"
      ],
      "metadata": {
        "id": "twAXrk5xVXue"
      },
      "execution_count": 33,
      "outputs": []
    },
    {
      "cell_type": "markdown",
      "source": [
        "# **Секција 5.2: Дефинирање на функции за практика - адаптивен тренинг во реално време**"
      ],
      "metadata": {
        "id": "LAFuOyBNXjeY"
      }
    },
    {
      "cell_type": "code",
      "source": [
        "def adaptiraj_trening_vo_realno_vreme(planiran_trening, momentalen_status, korisnik_profil):\n",
        "    # Оваа функција останува иста во логиката, но ќе биде повикана со пореални податоци\n",
        "    print(f\"\\n🔄 СЦЕНАРИО 2: Адаптација на тренинг во реално време.\")\n",
        "    print(f\"   План: {planiran_trening['Duration']} минути за цел од ~{planiran_trening['Target_Calories']:.0f} калории.\")\n",
        "    preostanato_vreme = planiran_trening['Duration'] - momentalen_status['Vreme_izminato']\n",
        "    if preostanato_vreme <= 0: return\n",
        "    proekcija_temp = 38.0 + (momentalen_status['Prosechen_puls_dosega'] - 90) * 0.05\n",
        "    podatoci_za_proekcija = {**korisnik_profil, 'Duration': preostanato_vreme, 'Heart_Rate': momentalen_status['Prosechen_puls_dosega'], 'Body_Temp': proekcija_temp}\n",
        "    input_df_proekcija = pd.DataFrame([podatoci_za_proekcija], columns=X.columns)\n",
        "    proektirani_kalorii_za_ostatok = model.predict(input_df_proekcija)[0]\n",
        "    vkupno_proektirani_kalorii = momentalen_status['Potrosheni_dosega'] + proektirani_kalorii_za_ostatok\n",
        "    print(f\"   Статус: По {momentalen_status['Vreme_izminato']:.0f} мин, потрошени се {momentalen_status['Potrosheni_dosega']:.0f} кал. со просечен пулс од {momentalen_status['Prosechen_puls_dosega']:.0f} bpm.\")\n",
        "    print(f\"   Проекција: Ако се продолжи со ова темпо, вкупната потрошувачка ќе биде ~{vkupno_proektirani_kalorii:.0f} калории.\")\n",
        "\n",
        "    # После корекција системот може да прикаже и позитивна и негативна препорака\n",
        "    if vkupno_proektirani_kalorii < planiran_trening['Target_Calories'] * 0.95: # Ако заостанува за повеќе од 5%\n",
        "        potrebni_kalorii_za_ostatok = planiran_trening['Target_Calories'] - momentalen_status['Potrosheni_dosega']\n",
        "        potreben_puls = momentalen_status['Prosechen_puls_dosega']\n",
        "        for puls in range(int(potreben_puls) + 1, 155):\n",
        "            korigirana_temp = 38.0 + (puls - 90) * 0.05\n",
        "            podatoci_za_korekcija = {**korisnik_profil, 'Duration': preostanato_vreme, 'Heart_Rate': puls, 'Body_Temp': korigirana_temp}\n",
        "            input_df_korekcija = pd.DataFrame([podatoci_za_korekcija], columns=X.columns)\n",
        "            if model.predict(input_df_korekcija)[0] >= potrebni_kalorii_za_ostatok:\n",
        "                potreben_puls = puls\n",
        "                break\n",
        "        print(f\"   ПРЕДУПРЕДУВАЊЕ: Моменталното темпо е недоволно за да се постигне целта.\")\n",
        "        print(f\"   АДАПТИВНА ПРЕПОРАКА: За да ја постигнете целта од {planiran_trening['Target_Calories']:.0f} калории, обидете се да го зголемите пулсот на ~{potreben_puls} bpm за преостанатите {preostanato_vreme:.0f} минути.\")\n",
        "    elif vkupno_proektirani_kalorii > planiran_trening['Target_Calories'] * 1.1: # Ако надминува за повеќе од 10%\n",
        "        print(f\"   ОДЛИЧНО! Вежбате со посилен интензитет од планираното. Можете малку да го намалите темпото ако сакате.\")\n",
        "    else:\n",
        "        print(f\"   ОДЛИЧНО! Перформансите се во согласност со планот. Само продолжете така.\")"
      ],
      "metadata": {
        "id": "ZNbHQospXvep"
      },
      "execution_count": 34,
      "outputs": []
    },
    {
      "cell_type": "markdown",
      "source": [
        "# **Секција 6: Податочно-водена динамичка симулација**"
      ],
      "metadata": {
        "id": "tf0fpezJYHwz"
      }
    },
    {
      "cell_type": "code",
      "source": [
        "    # Избор на случаен, но реален запис од датасетот за основа на симулацијата\n",
        "    random_index = random.randint(0, len(df) - 1)\n",
        "    real_data_point = df.loc[random_index]\n",
        "\n",
        "    # Креирање на кориснички профил и цел од реалниот запис\n",
        "    korisnik_profil = {\n",
        "        'Gender': 0 if real_data_point['Gender'] == 'male' else 1,\n",
        "        'Age': real_data_point['Age'],\n",
        "        'Height': real_data_point['Height'],\n",
        "        'Weight': real_data_point['Weight'],\n",
        "    }\n",
        "    cel_kalorii = real_data_point['Calories']\n",
        "\n",
        "    gender_text = \"Женско\" if korisnik_profil['Gender'] == 1 else \"Машко\"\n",
        "    print(f\"\\nСимулацијата се базира на реален запис од датасетот:\")\n",
        "    print(f\"   > Корисник: {gender_text}, {korisnik_profil['Age']} год, {korisnik_profil['Height']} cm, {korisnik_profil['Weight']} kg.\")\n",
        "    print(f\"   > Неговиот/Нејзиниот оригинален тренинг потрошил {cel_kalorii:.0f} калории.\")\n",
        "\n",
        "    # Демонстрација на Сценарио 1: Наоѓање алтернативи на реален тренинг\n",
        "    alternativni_planovi = pronajdi_alternativni_planovi(cel_kalorii=cel_kalorii, korisnik_profil=korisnik_profil)\n",
        "\n",
        "    if alternativni_planovi:\n",
        "        print(\"\\n   РЕЗУЛТАТ: Пронајдени се следниве алтернативни тренинзи:\\n\")\n",
        "        for i, plan in enumerate(alternativni_planovi):\n",
        "            print(f\"   Алтернатива {i+1}: '{plan['Plan_Type']}'\")\n",
        "            print(f\"                   (Времетраење: {plan['Duration']} мин, Прос. пулс: {plan['Heart_Rate']} bpm) -> Проценети {plan['Predicted_Calories']} калории.\")\n",
        "\n",
        "        # Демонстрација на Сценарио 2: Адаптација на реален тренинг\n",
        "        planiran_trening = {'Duration': real_data_point['Duration'], 'Target_Calories': cel_kalorii}\n",
        "\n",
        "        # Симулираме отстапување од реалниот тренинг (или подобро или полошо)\n",
        "        vreme_izminato = planiran_trening['Duration'] / 2\n",
        "        scenario_type = random.choice(['underperforming', 'on_track', 'overperforming'])\n",
        "\n",
        "        if scenario_type == 'underperforming':\n",
        "            # Корисникот потрошил помалку калории и имал понизок пулс\n",
        "            potroseni_dosega = (cel_kalorii / 2) * random.uniform(0.7, 0.9)\n",
        "            prosechen_puls_dosega = real_data_point['Heart_Rate'] * random.uniform(0.85, 0.95)\n",
        "        else:\n",
        "            # Корисникот потрошил повеќе калории и имал повисок пулс\n",
        "            potroseni_dosega = (cel_kalorii / 2) * random.uniform(1.0, 1.2)\n",
        "            prosechen_puls_dosega = real_data_point['Heart_Rate'] * random.uniform(1.0, 1.1)\n",
        "\n",
        "        status_na_korisnikot = {'Vreme_izminato': vreme_izminato, 'Potrosheni_dosega': potroseni_dosega, 'Prosechen_puls_dosega': prosechen_puls_dosega}\n",
        "\n",
        "        adaptiraj_trening_vo_realno_vreme(\n",
        "            planiran_trening=planiran_trening,\n",
        "            momentalen_status=status_na_korisnikot,\n",
        "            korisnik_profil=korisnik_profil\n",
        "        )\n",
        "    else:\n",
        "        print(f\"\\n   РЕЗУЛТАТ: Не се пронајдени доволно различни алтернативни планови за цел од {cel_kalorii:.0f} калории.\")"
      ],
      "metadata": {
        "colab": {
          "base_uri": "https://localhost:8080/"
        },
        "id": "ayCQiC9dYSTf",
        "outputId": "e9ef6cad-602a-45da-c1e9-4d89c66792a5"
      },
      "execution_count": 35,
      "outputs": [
        {
          "output_type": "stream",
          "name": "stdout",
          "text": [
            "\n",
            "Симулацијата се базира на реален запис од датасетот:\n",
            "   > Корисник: Машко, 23 год, 197.0 cm, 97.0 kg.\n",
            "   > Неговиот/Нејзиниот оригинален тренинг потрошил 181 калории.\n",
            "\n",
            " СЦЕНАРИО 1: Пребарување на АЛТЕРНАТИВНИ планови за цел од ~181 калории.\n",
            "\n",
            "   РЕЗУЛТАТ: Пронајдени се следниве алтернативни тренинзи:\n",
            "\n",
            "   Алтернатива 1: 'Напреден тренинг за издржливост'\n",
            "                   (Времетраење: 22 мин, Прос. пулс: 120 bpm) -> Проценети 171.1 калории.\n",
            "   Алтернатива 2: 'Напреден тренинг за издржливост'\n",
            "                   (Времетраење: 22 мин, Прос. пулс: 122 bpm) -> Проценети 179.5 калории.\n",
            "   Алтернатива 3: 'Напреден тренинг за издржливост'\n",
            "                   (Времетраење: 22 мин, Прос. пулс: 125 bpm) -> Проценети 186.5 калории.\n",
            "\n",
            "🔄 СЦЕНАРИО 2: Адаптација на тренинг во реално време.\n",
            "   План: 30.0 минути за цел од ~181 калории.\n",
            "   Статус: По 15 мин, потрошени се 100 кал. со просечен пулс од 106 bpm.\n",
            "   Проекција: Ако се продолжи со ова темпо, вкупната потрошувачка ќе биде ~185 калории.\n",
            "   ОДЛИЧНО! Перформансите се во согласност со планот. Само продолжете така.\n"
          ]
        }
      ]
    }
  ]
}